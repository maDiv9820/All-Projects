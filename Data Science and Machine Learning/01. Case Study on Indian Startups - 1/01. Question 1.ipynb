{
 "cells": [
  {
   "cell_type": "raw",
   "id": "70bc07be",
   "metadata": {},
   "source": [
    "Question 1)\n",
    "Given File 'startup_funding.csv'\n",
    "Problem Statement :\n",
    "Check the trend of investments over the years. To check the trend, find -\n",
    "Total number of fundings done in each year.\n",
    "Plot a line graph between year and number of fundings. Take year on x-axis and number of fundings on y-axis.\n",
    "Print year-wise total number of fundings also. Print years in ascending order.\n",
    "Note :\n",
    "There is some error in the 'Date' feature. Make sure to handle that.\n",
    "Output Format :\n",
    "\n",
    "year1 TotalFunding1\n",
    "year2 TotalFunding2\n",
    ". . . "
   ]
  },
  {
   "cell_type": "markdown",
   "id": "43dde656",
   "metadata": {},
   "source": [
    "### Importing the Libraries"
   ]
  },
  {
   "cell_type": "code",
   "execution_count": 1,
   "id": "ee92754a",
   "metadata": {},
   "outputs": [],
   "source": [
    "import pandas as pd # For opening csv files and creating dataframes if necessary.\n",
    "import numpy as np  # For using mathematical operations on arrays in faster way."
   ]
  },
  {
   "cell_type": "markdown",
   "id": "84be1aab",
   "metadata": {},
   "source": [
    "### Opening the CSV File and Checking the content in it"
   ]
  },
  {
   "cell_type": "code",
   "execution_count": null,
   "id": "d8e87a69",
   "metadata": {},
   "outputs": [],
   "source": [
    "dataset = pd.read_csv('')"
   ]
  }
 ],
 "metadata": {
  "kernelspec": {
   "display_name": "Python 3 (ipykernel)",
   "language": "python",
   "name": "python3"
  },
  "language_info": {
   "codemirror_mode": {
    "name": "ipython",
    "version": 3
   },
   "file_extension": ".py",
   "mimetype": "text/x-python",
   "name": "python",
   "nbconvert_exporter": "python",
   "pygments_lexer": "ipython3",
   "version": "3.9.7"
  }
 },
 "nbformat": 4,
 "nbformat_minor": 5
}
