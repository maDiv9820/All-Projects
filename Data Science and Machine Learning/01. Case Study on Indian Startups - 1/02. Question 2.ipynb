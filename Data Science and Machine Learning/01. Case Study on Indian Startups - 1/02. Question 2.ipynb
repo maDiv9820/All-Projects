{
 "cells": [
  {
   "cell_type": "raw",
   "id": "4eac168a",
   "metadata": {},
   "source": [
    "Question 2)\n",
    "    Given File 'startup_funding.csv'\n",
    "    Problem Statement :\n",
    "    Find out which cities are generally chosen for starting a startup.\n",
    "    Find top 10 Indian cities which have most number of startups ?\n",
    "    Plot a pie chart and visualise it.\n",
    "    Print the city name and number of startups in that city also.\n",
    "    Note :\n",
    "    Take city name \"Delhi\" as \"New Delhi\".\n",
    "    Check the case-sensitiveness of cities also. That means - at some place, instead of \"Bangalore\", \"bangalore\" is given. Take city name as \"Bangalore\".\n",
    "    For few startups multiple locations are given, one Indian and one Foreign. Count those startups in Indian startup also. Indian city name is first.\n",
    "    Print the city in descending order with respect to the number of startups.\n",
    "    Output Format :\n",
    "\n",
    "    city1 number1\n",
    "    city2 number2\n",
    "    . . . "
   ]
  },
  {
   "cell_type": "markdown",
   "id": "17baea62",
   "metadata": {},
   "source": [
    "### Importing the Libraries"
   ]
  },
  {
   "cell_type": "code",
   "execution_count": null,
   "id": "2846a6c0",
   "metadata": {},
   "outputs": [],
   "source": [
    "import numpy as np  # For using n-d array mathematical operations\n",
    "import pandas as pd # For open csv files and create dataframe\n",
    "import matplotlib.pyplot as plt # For plotting graphs"
   ]
  },
  {
   "cell_type": "markdown",
   "id": "c08e8629",
   "metadata": {},
   "source": [
    "### Reading CSV Files and Checking the content in it"
   ]
  },
  {
   "cell_type": "code",
   "execution_count": null,
   "id": "52aaa077",
   "metadata": {},
   "outputs": [],
   "source": [
    "# Opening csv files\n",
    "dataset = pd.read_csv('startup_funding.csv', skipinitialspace = True, encoding = 'utf-8')\n",
    "df = dataset.copy() # Copying the dataset dataframe in df in case anything goes wrong, we can start again\n",
    "df.head(10) # Showing first 10 rows in df"
   ]
  },
  {
   "cell_type": "markdown",
   "id": "33732b88",
   "metadata": {},
   "source": [
    "### Solution for given problem\n",
    "To find top 10 cities with maximum fundings we can use CityLocation column in dataset.\n",
    "Count each city in the column."
   ]
  },
  {
   "cell_type": "code",
   "execution_count": null,
   "id": "82dbe2d4",
   "metadata": {},
   "outputs": [],
   "source": [
    "cityLocation = df['CityLocation'] # Fetching all the cities in CityLocation column\n",
    "cities = []\n",
    "\n",
    "# Fetching all the city from cityLocation\n",
    "for city in cityLocation:\n",
    "    if str(city) != 'nan' and city != '':\n",
    "        allCity = city.split('/') # city contain more than one city\n",
    "        cities.append(allCity[0]) # We have to consider only first city, if they are more than city\n",
    "\n",
    "city = pd.DataFrame(cities) # Creating Dataframe for city\n",
    "# value_counts() function in pandas returns count of each value with index as city and value as count\n",
    "# in descending order\n",
    "cityWithCount = city.value_counts()\n",
    "allCities = np.array([city[0] for city in cityWithCount.index])\n",
    "noOfFundings = np.array(cityWithCount.values, dtype = int)\n",
    "\n",
    "# Printing top 10 cities with maximum no of fundings\n",
    "for index in range(10):\n",
    "    print(allCities[index], noOfFundings[index])\n",
    "\n",
    "# Plotting the pie char\n",
    "plt.figure(figsize = (5,6))\n",
    "plt.pie(noOfFundings[:10], autopct = '%.2f%%')\n",
    "plt.axis('equal')\n",
    "plt.title('Top 10 Indian Cities with maximum no of fundings', fontsize = 20)\n",
    "plt.legend(labels = allCities[:10], fontsize=12, loc='upper left', \n",
    "           bbox_to_anchor=(-0.5, 0.85), ncol=1)\n",
    "plt.show()"
   ]
  }
 ],
 "metadata": {
  "kernelspec": {
   "display_name": "Python 3 (ipykernel)",
   "language": "python",
   "name": "python3"
  },
  "language_info": {
   "codemirror_mode": {
    "name": "ipython",
    "version": 3
   },
   "file_extension": ".py",
   "mimetype": "text/x-python",
   "name": "python",
   "nbconvert_exporter": "python",
   "pygments_lexer": "ipython3",
   "version": "3.9.7"
  }
 },
 "nbformat": 4,
 "nbformat_minor": 5
}
