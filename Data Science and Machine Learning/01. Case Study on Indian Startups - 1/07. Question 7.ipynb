{
 "cells": [
  {
   "cell_type": "raw",
   "id": "4f9fdeed",
   "metadata": {},
   "source": [
    "Question 7)\n",
    "    Given File 'startup_funding.csv'\n",
    "    Problem Statement :\n",
    "    Find the top 5 startups who received the most number of funding rounds. That means, startups which got fundings maximum number of times.\n",
    "    Print the startup name in descending order with respect to the number of funding round as integer value.\n",
    "    Note:\n",
    "    Ola, Flipkart, Oyo, Paytm are important startups, so correct their names. There are many errors in startup names, ignore correcting all, just handle important ones.\n",
    "    Output Format :\n",
    "\n",
    "    startup1 number1\n",
    "    startup2 number2\n",
    "    startup3 number3\n",
    "    . . . "
   ]
  },
  {
   "cell_type": "markdown",
   "id": "d13b9296",
   "metadata": {},
   "source": [
    "### Importing the Libraries"
   ]
  },
  {
   "cell_type": "code",
   "execution_count": null,
   "id": "d2b71fcb",
   "metadata": {},
   "outputs": [],
   "source": [
    "import numpy as np  # For using n-d array mathematical operations\n",
    "import pandas as pd # For open csv files and create dataframe\n",
    "import matplotlib.pyplot as plt # For plotting graphs"
   ]
  },
  {
   "cell_type": "markdown",
   "id": "4ad3a509",
   "metadata": {},
   "source": [
    "### Reading CSV Files and Checking the content in it"
   ]
  },
  {
   "cell_type": "code",
   "execution_count": null,
   "id": "4d9da739",
   "metadata": {},
   "outputs": [],
   "source": [
    "# Opening csv files\n",
    "dataset = pd.read_csv('startup_funding.csv', skipinitialspace = True, encoding = 'utf-8')\n",
    "df = dataset.copy() # Copying the dataset dataframe in df in case anything goes wrong, we can start again\n",
    "df.head(10) # Showing first 10 rows in df"
   ]
  },
  {
   "cell_type": "markdown",
   "id": "133e05c2",
   "metadata": {},
   "source": [
    "### Solution for given problem\n",
    "To find top 5 startups with maximum number of fundings, we need to check StartupName column."
   ]
  },
  {
   "cell_type": "code",
   "execution_count": null,
   "id": "e8aabcef",
   "metadata": {},
   "outputs": [],
   "source": [
    "# Replacing incorrect startup names with correct startup name in StartupName column\n",
    "df.StartupName.replace('Flipkart.com', 'Flipkart', inplace = True)\n",
    "df.StartupName.replace('Ola Cabs', 'Ola', inplace = True)\n",
    "df.StartupName.replace('Olacabs', 'Ola', inplace = True)\n",
    "df.StartupName.replace('OYO Rooms', 'Oyo', inplace = True)\n",
    "df.StartupName.replace('Oyo Rooms', 'Oyo', inplace = True)\n",
    "df.StartupName.replace('OyoRooms', 'Oyo', inplace = True)\n",
    "df.StartupName.replace('Oyorooms', 'Oyo', inplace = True)\n",
    "df.StartupName.replace('Paytm Marketplace', 'Paytm', inplace = True)\n",
    "df.StartupName.fillna('', inplace = True)\n",
    "\n",
    "# Fetching all startup name and amount corresponding to it\n",
    "startupName = df.StartupName\n",
    "\n",
    "# Creating a dictionary to save count for each startup as startupname as key and count as value\n",
    "countAsPerStartup = {} \n",
    "# Getting count of fundings for each startup\n",
    "for index in range(len(startupName)):\n",
    "    name = startupName[index]\n",
    "    if name != '':\n",
    "        countAsPerStartup[name] = countAsPerStartup.get(name,0)+1\n",
    "\n",
    "# Fetching startup name and count collected from amountAsPerStartup\n",
    "startupName = list(countAsPerStartup.keys())\n",
    "count = list(countAsPerStartup.values())\n",
    "# Creating 2D array from 1D arrays using zip() function in python\n",
    "countAsPerStartup = list(zip(startupName,count))\n",
    "countAsPerStartup.sort(reverse = True, key = lambda x:x[1]) # Sorting the array in descending order as per amount\n",
    "\n",
    "countAsPerStartup = np.array(countAsPerStartup) # Converting into 2D numpy array\n",
    "startupName = countAsPerStartup[:,0] # Fetching all startup name as per descending order\n",
    "count = np.array(countAsPerStartup[:,1], dtype = int) # Fetching amount for each startup\n",
    "totalCount = np.sum(count[:5]) # Adding amount of top 5 most funded startups\n",
    "\n",
    "# Printing top 5 most funded startups \n",
    "for index in range(5):\n",
    "    print(startupName[index], count[index])\n",
    "\n",
    "# Plotting the Pie Chart\n",
    "plt.figure(figsize = (5,6))\n",
    "plt.pie(count[:5], autopct = '%.2f%%')\n",
    "plt.axis('equal')\n",
    "plt.title('Top 5 Most Funded Startups', fontsize = 20)\n",
    "plt.legend(labels = startupName[:5], edgecolor = 'black', loc = 'upper left', bbox_to_anchor = (0,0), ncol = 2,\n",
    "           fontsize = 12)\n",
    "plt.show()"
   ]
  }
 ],
 "metadata": {
  "kernelspec": {
   "display_name": "Python 3 (ipykernel)",
   "language": "python",
   "name": "python3"
  },
  "language_info": {
   "codemirror_mode": {
    "name": "ipython",
    "version": 3
   },
   "file_extension": ".py",
   "mimetype": "text/x-python",
   "name": "python",
   "nbconvert_exporter": "python",
   "pygments_lexer": "ipython3",
   "version": "3.9.7"
  }
 },
 "nbformat": 4,
 "nbformat_minor": 5
}
