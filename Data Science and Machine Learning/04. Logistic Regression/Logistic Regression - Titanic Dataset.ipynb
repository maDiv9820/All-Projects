{
 "cells": [
  {
   "cell_type": "raw",
   "id": "2d3109da",
   "metadata": {},
   "source": [
    "Titanic dataset is one of the datasets available in sklearn.\n",
    "You are given:\n",
    "\n",
    "1. A Training dataset csv file with X train and Y train data\n",
    "2. A X test File and you have to predict and submit predictions for this file.\n",
    "\n",
    "Your task is to:\n",
    "\n",
    "1. Use Logistic Regression and come with predictions.\n",
    "\n",
    "Read Instructions carefully -\n",
    "\n",
    "1. Use Logistic Regression as a training algorithm and submit results predicted.\n",
    "2. Files are in csv format.\n",
    "3. Submit a csv file with only predictions for X test data. File should not have any headers and should only have one column i.e. predictions.\n",
    "4. Your score is based on number of accurate predictions."
   ]
  }
 ],
 "metadata": {
  "kernelspec": {
   "display_name": "Python 3 (ipykernel)",
   "language": "python",
   "name": "python3"
  },
  "language_info": {
   "codemirror_mode": {
    "name": "ipython",
    "version": 3
   },
   "file_extension": ".py",
   "mimetype": "text/x-python",
   "name": "python",
   "nbconvert_exporter": "python",
   "pygments_lexer": "ipython3",
   "version": "3.9.7"
  }
 },
 "nbformat": 4,
 "nbformat_minor": 5
}
