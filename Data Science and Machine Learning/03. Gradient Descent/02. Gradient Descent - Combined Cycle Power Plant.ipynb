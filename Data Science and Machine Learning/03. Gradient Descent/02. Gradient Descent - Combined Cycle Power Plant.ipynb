{
 "cells": [
  {
   "cell_type": "raw",
   "id": "37a5065d",
   "metadata": {},
   "source": [
    "Combined Cycle Power Plant dataset contains 9568 data points collected from a Combined Cycle Power Plant over 6 years (2006-2011), when the power plant was set to work with full load. Features consist of hourly average ambient variables Temperature (T), Ambient Pressure (AP), Relative Humidity (RH) and Exhaust Vacuum (V) to predict the net hourly electrical energy output (EP) of the plant.\n",
    "You are given:\n",
    "\n",
    "1. A Readme file for more details on dataset. \n",
    "2. A Training dataset csv file with X train and Y train data\n",
    "3. A X test File and you have to predict and submit predictions for this file.\n",
    "\n",
    "Your task is to:\n",
    "\n",
    "1. Code Gradient Descent for N features and come with predictions.\n",
    "2. Try and test with various combinations of learning rates and number of iterations.\n",
    "3. Try using Feature Scaling, and see if it helps you in getting better results. "
   ]
  },
  {
   "cell_type": "markdown",
   "id": "06dd3253",
   "metadata": {},
   "source": [
    "### Importing the Libraries"
   ]
  },
  {
   "cell_type": "code",
   "execution_count": 1,
   "id": "100d71f2",
   "metadata": {},
   "outputs": [],
   "source": [
    "import numpy as np # Creating numpy nd arrays\n",
    "from sklearn.model_selection import train_test_split # For random splitting of dataset\n",
    "from sklearn import linear_model # For using inbuilt Linear Regression Model\n",
    "from sklearn.preprocessing import MinMaxScaler # For Scaling the features"
   ]
  },
  {
   "cell_type": "markdown",
   "id": "79e49886",
   "metadata": {},
   "source": [
    "### Fetching data from Train and Test Set"
   ]
  },
  {
   "cell_type": "code",
   "execution_count": 2,
   "id": "ccdcd928",
   "metadata": {},
   "outputs": [
    {
     "data": {
      "text/plain": [
       "array([[   8.58,   38.38, 1021.03,   84.37,  482.26],\n",
       "       [  21.79,   58.2 , 1017.21,   66.74,  446.94],\n",
       "       [  16.64,   48.92, 1011.55,   78.76,  452.56],\n",
       "       ...,\n",
       "       [  29.8 ,   69.34, 1009.36,   64.74,  437.65],\n",
       "       [  16.37,   54.3 , 1017.94,   63.63,  459.97],\n",
       "       [  30.11,   62.04, 1010.69,   47.96,  444.42]])"
      ]
     },
     "execution_count": 2,
     "metadata": {},
     "output_type": "execute_result"
    }
   ],
   "source": [
    "train_set = np.loadtxt('ccpp_train.csv', delimiter = ',')\n",
    "train_set"
   ]
  },
  {
   "cell_type": "code",
   "execution_count": 3,
   "id": "a7b4b193",
   "metadata": {},
   "outputs": [
    {
     "data": {
      "text/plain": [
       "array([[  11.95,   42.03, 1017.58,   90.89],\n",
       "       [  12.07,   38.25, 1012.67,   81.66],\n",
       "       [  26.91,   74.99, 1005.64,   78.98],\n",
       "       ...,\n",
       "       [  24.32,   66.25, 1009.09,   91.89],\n",
       "       [  23.49,   42.8 , 1013.96,   65.31],\n",
       "       [  21.76,   60.27, 1018.96,   85.06]])"
      ]
     },
     "execution_count": 3,
     "metadata": {},
     "output_type": "execute_result"
    }
   ],
   "source": [
    "test_set = np.loadtxt('ccpp_test.csv', delimiter = ',')\n",
    "test_set"
   ]
  },
  {
   "cell_type": "code",
   "execution_count": 4,
   "id": "59095dd1",
   "metadata": {},
   "outputs": [],
   "source": [
    "x = train_set[:,:-1] # Fetching all the features from the train_set\n",
    "y = train_set[:,-1]  # Fetching all the results from train_set"
   ]
  },
  {
   "cell_type": "markdown",
   "id": "2f2580cf",
   "metadata": {},
   "source": [
    "### Feature Scaling"
   ]
  },
  {
   "cell_type": "code",
   "execution_count": 5,
   "id": "e9f478b7",
   "metadata": {},
   "outputs": [],
   "source": [
    "scaler = MinMaxScaler()\n",
    "x = scaler.fit_transform(x)\n",
    "test_set = scaler.transform(test_set)"
   ]
  },
  {
   "cell_type": "markdown",
   "id": "81dd2874",
   "metadata": {},
   "source": [
    "### Creating class for Linear Regression"
   ]
  },
  {
   "cell_type": "code",
   "execution_count": 6,
   "id": "e499bb5e",
   "metadata": {},
   "outputs": [],
   "source": [
    "# Creating class of Linear Regression for n features using Gradient Descent\n",
    "class LinearRegression:\n",
    "    def __init__(self):\n",
    "        print('Algorithm Initiated')\n",
    "    \n",
    "    # Defining the cost function\n",
    "    def __cost(self,x,y):\n",
    "        try:\n",
    "            cost = np.zeros(self.__M)\n",
    "            for rowNo in range(self.__M):\n",
    "                cost[rowNo] = (y[rowNo]-((self.__constants*x[rowNo]).sum()))**2\n",
    "            return cost.mean()\n",
    "        except Exception as e:\n",
    "            print('Error:', e)\n",
    "    \n",
    "    # Defining function for gradient descent for minimizing the cost\n",
    "    def __step_gradient_descent(self,x,y,alpha):\n",
    "        try:\n",
    "            costderivative = np.zeros(self.__N)\n",
    "            for colNo in range(self.__N):\n",
    "                for rowNo in range(self.__M):\n",
    "                    # Adding to derivative of cost with respect to each coefficient\n",
    "                    derivative = (-2/self.__M)*(y[rowNo]-((self.__constants*x[rowNo]).sum()))*x[rowNo,colNo]\n",
    "                    costderivative[colNo] += derivative\n",
    "            self.__constants = self.__constants-alpha*costderivative\n",
    "        except Exception as e:\n",
    "            print('Error:', e)\n",
    "\n",
    "    # Training the algorithm to get coefficients having minimum cost\n",
    "    def __gradient_descent(self,x,y,alpha,iterations):\n",
    "        try:\n",
    "            for count in range(iterations):\n",
    "                self.__step_gradient_descent(x,y,alpha)\n",
    "        except Exception as e:\n",
    "            print('Error:', e)\n",
    "    \n",
    "    # Defining fit function which contains x as values of features, y as their corresponding output\n",
    "    # alpha is learning rate and iteration is no of rounds in the order of minimize of values of coefficient\n",
    "    # of features.\n",
    "    def fit(self,x,y,alpha,iterations):\n",
    "        try:\n",
    "            self.__M = x.shape[0] # No of rows or values in the dataset\n",
    "            self.__N = x.shape[1] # No of columns or features in the dataset\n",
    "            self.__constants = np.zeros(self.__N) # Creating a np array for values of coefficients of features\n",
    "            self.__gradient_descent(x,y,alpha,iterations)\n",
    "            self.coeff = self.__constants[:-1]    # Seperating coefficients from intercept\n",
    "            self.intercept = self.__constants[-1] # Y-intercept\n",
    "        except Exception as e:\n",
    "            print('Error:', e)\n",
    "    \n",
    "    # Creating Predict Function to predict the values of test inputs\n",
    "    def predict(self,test):\n",
    "        try:\n",
    "            y_pred = np.zeros(test.shape[0])\n",
    "            for index in range(test.shape[0]):\n",
    "                y_pred[index] = (self.__constants*test[index]).sum()\n",
    "            return y_pred\n",
    "        except Exception as e:\n",
    "            print('Error:', e)\n",
    "    \n",
    "    # Score function\n",
    "    def score(self,x,y):\n",
    "        try:\n",
    "            y_pred = self.predict(x)\n",
    "            u = ((y-y_pred)**2).sum()\n",
    "            v = ((y-y.mean())**2).sum()\n",
    "            return 1-u/v\n",
    "        except Exception as e:\n",
    "            print('Error:', e)"
   ]
  },
  {
   "cell_type": "code",
   "execution_count": 7,
   "id": "13cb143b",
   "metadata": {},
   "outputs": [
    {
     "name": "stdout",
     "output_type": "stream",
     "text": [
      "(7176, 5)\n",
      "(2392, 5)\n"
     ]
    }
   ],
   "source": [
    "# Appending the column containing 1s to end of the x\n",
    "ones1 = np.ones(x.shape[0]).reshape(x.shape[0],1)\n",
    "x = np.append(x,ones1,axis = 1)\n",
    "ones2 = np.ones(test_set.shape[0]).reshape(test_set.shape[0],1)\n",
    "test_set = np.append(test_set,ones2,axis=1)\n",
    "print(x.shape)\n",
    "print(test_set.shape)"
   ]
  },
  {
   "cell_type": "markdown",
   "id": "df162203",
   "metadata": {},
   "source": [
    "### Testing the algorithm"
   ]
  },
  {
   "cell_type": "code",
   "execution_count": 8,
   "id": "eaaa0e0f",
   "metadata": {
    "scrolled": true
   },
   "outputs": [
    {
     "name": "stdout",
     "output_type": "stream",
     "text": [
      "Algorithm Initiated\n",
      "Self Made Algo Score: 0.9258705178942184\n",
      "Self Made Algo Predictions:\n",
      "[482.40260472 460.51674958 447.18818506 ... 473.41896103 449.4671688\n",
      " 445.15473579]\n"
     ]
    }
   ],
   "source": [
    "# Splitting the x,y into x_train,x_test,y_train,y_test for testing the algorithm\n",
    "x_train,x_test,y_train,y_test = train_test_split(x,y,random_state = 1)\n",
    "algo = LinearRegression()\n",
    "algo.fit(x_train,y_train,0.4,1000)\n",
    "print('Self Made Algo Score:', algo.score(x_train,y_train))\n",
    "print('Self Made Algo Predictions:')\n",
    "print(algo.predict(x_train))"
   ]
  },
  {
   "cell_type": "code",
   "execution_count": 9,
   "id": "b82e89bb",
   "metadata": {},
   "outputs": [
    {
     "name": "stdout",
     "output_type": "stream",
     "text": [
      "[-58.90274912 -17.8876033    6.96413074  -8.04051343]\n",
      "496.1128722532661\n"
     ]
    }
   ],
   "source": [
    "print(algo.coeff)\n",
    "print(algo.intercept)"
   ]
  },
  {
   "cell_type": "code",
   "execution_count": 10,
   "id": "e3598040",
   "metadata": {},
   "outputs": [
    {
     "name": "stdout",
     "output_type": "stream",
     "text": [
      "Inbuilt algo score: 0.9282823477634228\n",
      "Inbuilt algo predictions:\n",
      "[484.39621611 460.91793105 448.07928111 ... 473.44893106 449.3921115\n",
      " 444.41006337]\n"
     ]
    }
   ],
   "source": [
    "inbuilt_algo = linear_model.LinearRegression()\n",
    "inbuilt_algo.fit(x_train,y_train)\n",
    "print('Inbuilt algo score:', inbuilt_algo.score(x_train,y_train))\n",
    "print('Inbuilt algo predictions:')\n",
    "print(inbuilt_algo.predict(x_train))"
   ]
  },
  {
   "cell_type": "markdown",
   "id": "feac8fc7",
   "metadata": {},
   "source": [
    "### Predicting Output for test data"
   ]
  },
  {
   "cell_type": "code",
   "execution_count": 12,
   "id": "df0e2412",
   "metadata": {},
   "outputs": [
    {
     "name": "stdout",
     "output_type": "stream",
     "text": [
      "Algorithm Initiated\n",
      "0.9262753082044313\n"
     ]
    }
   ],
   "source": [
    "# Creating a new object of LinearRegression algorithm that we created\n",
    "algo1 = LinearRegression()\n",
    "algo1.fit(x,y,0.4,1000) # Training as per given inputs\n",
    "print(algo1.score(x,y)) # Printing the score of training set\n",
    "y_pred = algo1.predict(test_set) # Predicting the output for test_set\n",
    "y_pred = np.round(y_pred,5) # Rounding off the values to the 5 decimal places\n",
    "np.savetxt('ans_ccpp.csv',y_pred,delimiter = ',') # Saving the predictions into the csv file"
   ]
  }
 ],
 "metadata": {
  "kernelspec": {
   "display_name": "Python 3 (ipykernel)",
   "language": "python",
   "name": "python3"
  },
  "language_info": {
   "codemirror_mode": {
    "name": "ipython",
    "version": 3
   },
   "file_extension": ".py",
   "mimetype": "text/x-python",
   "name": "python",
   "nbconvert_exporter": "python",
   "pygments_lexer": "ipython3",
   "version": "3.9.7"
  }
 },
 "nbformat": 4,
 "nbformat_minor": 5
}
